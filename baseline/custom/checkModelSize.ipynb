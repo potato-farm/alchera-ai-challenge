{
 "cells": [
  {
   "cell_type": "code",
   "execution_count": null,
   "metadata": {},
   "outputs": [],
   "source": [
    "try:\n",
    "\tfrom torchsummary import summary as summary_\n",
    "except:\n",
    "\t!pip3 install torchsummary\n",
    "\tfrom torchsummary import summary as summary_"
   ]
  },
  {
   "cell_type": "code",
   "execution_count": null,
   "metadata": {},
   "outputs": [],
   "source": [
    "# from importlib import import_module\n",
    "# DIRNAME = \"my\"\n",
    "# model = getattr(import_module(f\"{DIRNAME}.settings.model\"), \"getModel\")()\n",
    "\n",
    "# ----------- or\n",
    "\n",
    "import segmentation_models_pytorch as smp\n",
    "\n",
    "model = smp.DeepLabV3Plus(\n",
    "\t\t\tencoder_name=\"tu-ssl_resnext50_32x4d\",\n",
    "\t\t\tencoder_weights=\"imagenet\",\n",
    "\t\t\tin_channels=3,\n",
    "\t\t\tclasses=15\n",
    "\t\t)"
   ]
  },
  {
   "cell_type": "code",
   "execution_count": null,
   "metadata": {},
   "outputs": [],
   "source": [
    "INPUTSIZE = (3,1024,1024) # c h w\n",
    "BATCH = 8\n",
    "\n",
    "'''\n",
    "Params size == model.state_dict size!! (100mb 넘기면 안댐)\n",
    "Forward/backward pass size : GPU 메모리 할당량(대충 200000 넘어가면 좀 위험한듯? 확실친않음) \n",
    "'''\n",
    "\n",
    "summary_(model.to(\"cuda\"),INPUTSIZE,batch_size=BATCH)"
   ]
  },
  {
   "cell_type": "code",
   "execution_count": null,
   "metadata": {},
   "outputs": [],
   "source": [
    "import torch\n",
    "C,H,W = INPUTSIZE\n",
    "model(torch.randn(BATCH,C,H,W).to(\"cuda\"))"
   ]
  }
 ],
 "metadata": {
  "interpreter": {
   "hash": "58c22139e035fe019fb6d4ad64076bc2c6d0447a07f25eee7aec180e2958d9c4"
  },
  "kernelspec": {
   "display_name": "Python 3.8.5 64-bit ('venv': venv)",
   "language": "python",
   "name": "python3"
  },
  "language_info": {
   "codemirror_mode": {
    "name": "ipython",
    "version": 3
   },
   "file_extension": ".py",
   "mimetype": "text/x-python",
   "name": "python",
   "nbconvert_exporter": "python",
   "pygments_lexer": "ipython3",
   "version": "3.8.5"
  },
  "orig_nbformat": 4
 },
 "nbformat": 4,
 "nbformat_minor": 2
}
