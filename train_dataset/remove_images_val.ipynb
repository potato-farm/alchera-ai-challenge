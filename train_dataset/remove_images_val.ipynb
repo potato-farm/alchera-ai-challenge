{
 "cells": [
  {
   "cell_type": "code",
   "execution_count": 1,
   "metadata": {},
   "outputs": [],
   "source": [
    "import os\n",
    "import json\n",
    "from pandas import json_normalize"
   ]
  },
  {
   "cell_type": "code",
   "execution_count": 2,
   "metadata": {},
   "outputs": [],
   "source": [
    "with open('densepose_coco_2014_minival.json', 'r') as f:\n",
    "    json_data = json.load(f)"
   ]
  },
  {
   "cell_type": "code",
   "execution_count": 3,
   "metadata": {},
   "outputs": [],
   "source": [
    "df_image = json_normalize(json_data['images'])"
   ]
  },
  {
   "cell_type": "code",
   "execution_count": 4,
   "metadata": {},
   "outputs": [],
   "source": [
    "file_name = df_image['file_name'].values\n",
    "hash_map = dict()\n",
    "for f in file_name:\n",
    "    hash_map[hash(f)] = f"
   ]
  },
  {
   "cell_type": "code",
   "execution_count": 30,
   "metadata": {},
   "outputs": [
    {
     "name": "stdout",
     "output_type": "stream",
     "text": [
      "The number of good images is verified (1508 images)\n"
     ]
    }
   ],
   "source": [
    "no_image = 0\n",
    "yes_image = 0\n",
    "for image in os.listdir('val2014'):\n",
    "    if hash_map.get(hash(image)) == None:\n",
    "        no_image += 1\n",
    "    else:\n",
    "        yes_image += 1\n",
    "\n",
    "if yes_image == len(file_name):\n",
    "    print(f\"The number of good images is verified ({len(file_name)} images)\")\n",
    "else:\n",
    "    print(f\"Oops, the number of good images should be {len(file_name)} (Number counted: {yes_image})\")"
   ]
  },
  {
   "cell_type": "code",
   "execution_count": 19,
   "metadata": {},
   "outputs": [],
   "source": [
    "# remove images\n",
    "\n",
    "for image in os.listdir('val2014'):\n",
    "    if hash_map.get(hash(image)) == None:\n",
    "        full_file_path = os.path.join('val2014', image)\n",
    "        print(f'Removing {image}')\n",
    "        os.remove(full_file_path)\n",
    "        print(f\"{image} successfully removed\")\n",
    "    else:\n",
    "        continue"
   ]
  },
  {
   "cell_type": "code",
   "execution_count": 29,
   "metadata": {},
   "outputs": [
    {
     "name": "stdout",
     "output_type": "stream",
     "text": [
      "The number of good images is verified (1508 images)\n"
     ]
    }
   ],
   "source": [
    "good_image = 0\n",
    "for image in os.listdir('val2014'):\n",
    "    good_image += 1\n",
    "\n",
    "if good_image == len(file_name):\n",
    "    print(f\"The number of good images is verified ({len(file_name)} images)\")\n",
    "else:\n",
    "    print(f\"Oops, the number of good images should be {len(file_name)} (Number Counted: {good_image}). Please check again.\")"
   ]
  },
  {
   "cell_type": "code",
   "execution_count": null,
   "metadata": {},
   "outputs": [],
   "source": []
  }
 ],
 "metadata": {
  "kernelspec": {
   "display_name": "Python 3",
   "language": "python",
   "name": "python3"
  },
  "language_info": {
   "codemirror_mode": {
    "name": "ipython",
    "version": 3
   },
   "file_extension": ".py",
   "mimetype": "text/x-python",
   "name": "python",
   "nbconvert_exporter": "python",
   "pygments_lexer": "ipython3",
   "version": "3.8.5"
  },
  "orig_nbformat": 2
 },
 "nbformat": 4,
 "nbformat_minor": 2
}