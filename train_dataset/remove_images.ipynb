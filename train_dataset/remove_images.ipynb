{
 "cells": [
  {
   "cell_type": "code",
   "execution_count": 1,
   "metadata": {},
   "outputs": [],
   "source": [
    "import os\n",
    "import json\n",
    "from pandas import json_normalize"
   ]
  },
  {
   "cell_type": "markdown",
   "metadata": {},
   "source": [
    "# Train dataset"
   ]
  },
  {
   "cell_type": "code",
   "execution_count": 2,
   "metadata": {},
   "outputs": [],
   "source": [
    "# insert train.json file path\n",
    "with open('densepose_coco_2014_train.json', 'r') as f:\n",
    "    json_data = json.load(f)"
   ]
  },
  {
   "cell_type": "code",
   "execution_count": 3,
   "metadata": {},
   "outputs": [],
   "source": [
    "# change dict to a tabular form\n",
    "df_image = json_normalize(json_data['images'])"
   ]
  },
  {
   "cell_type": "code",
   "execution_count": 4,
   "metadata": {},
   "outputs": [],
   "source": [
    "# creat a hash map with images to keep\n",
    "file_name = df_image['file_name'].values\n",
    "hash_map = dict()\n",
    "for f in file_name:\n",
    "    hash_map[hash(f)] = f"
   ]
  },
  {
   "cell_type": "code",
   "execution_count": 5,
   "metadata": {},
   "outputs": [
    {
     "name": "stdout",
     "output_type": "stream",
     "text": [
      "The number of good images is verified (26437 images)\n"
     ]
    }
   ],
   "source": [
    "# verify the number of images to keep and erase\n",
    "no_image = 0\n",
    "yes_image = 0\n",
    "for image in os.listdir('train2014'):\n",
    "    if hash_map.get(hash(image)) == None:\n",
    "        no_image += 1\n",
    "    else:\n",
    "        yes_image += 1\n",
    "\n",
    "if yes_image == len(file_name):\n",
    "    print(f\"The number of good images is verified ({len(file_name)} images)\")\n",
    "else:\n",
    "    print(f\"The number of good images should be {len(file_name)} (Number counted: {yes_image})\")"
   ]
  },
  {
   "cell_type": "code",
   "execution_count": 6,
   "metadata": {},
   "outputs": [],
   "source": [
    "# remove images\n",
    "# PLEASE VERIFY FIRST BEFORE CONTINUE\n",
    "for image in os.listdir('train2014'):\n",
    "    if hash_map.get(hash(image)) == None:\n",
    "        full_file_path = os.path.join('train2014', image)\n",
    "        print(f'Removing {image}')\n",
    "        os.remove(full_file_path)\n",
    "        print(f\"{image} successfully removed\")\n",
    "    else:\n",
    "        continue"
   ]
  },
  {
   "cell_type": "code",
   "execution_count": 7,
   "metadata": {},
   "outputs": [
    {
     "name": "stdout",
     "output_type": "stream",
     "text": [
      "The number of good images is verified (26437 images)\n"
     ]
    }
   ],
   "source": [
    "# verify if all the unused images are deleted\n",
    "good_image = 0\n",
    "for image in os.listdir('train2014'):\n",
    "    good_image += 1\n",
    "\n",
    "if good_image == len(file_name):\n",
    "    print(f\"The number of good images is verified ({len(file_name)} images)\")\n",
    "else:\n",
    "    print(f\"Oops, the number of good images should be {len(file_name)} (Number Counted: {good_image}). Please check again.\")"
   ]
  },
  {
   "cell_type": "markdown",
   "metadata": {},
   "source": [
    "# Validation dataset"
   ]
  },
  {
   "cell_type": "code",
   "execution_count": 16,
   "metadata": {},
   "outputs": [],
   "source": [
    "# insert train.json file path\n",
    "with open('densepose_coco_2014_minival.json', 'r') as f:\n",
    "    json_data_val = json.load(f)"
   ]
  },
  {
   "cell_type": "code",
   "execution_count": 17,
   "metadata": {},
   "outputs": [],
   "source": [
    "# change dict to a tabular form\n",
    "df_image_val = json_normalize(json_data_val['images'])"
   ]
  },
  {
   "cell_type": "code",
   "execution_count": 14,
   "metadata": {},
   "outputs": [],
   "source": [
    "# creat a hash map with images to keep\n",
    "file_name_val = df_image_val['file_name'].values\n",
    "hash_map_val = dict()\n",
    "for f in file_name_val:\n",
    "    hash_map_val[hash(f)] = f"
   ]
  },
  {
   "cell_type": "code",
   "execution_count": 21,
   "metadata": {},
   "outputs": [
    {
     "name": "stdout",
     "output_type": "stream",
     "text": [
      "The number of good images is verified (1508 images)\n"
     ]
    }
   ],
   "source": [
    "# verify the number of images to keep and erase\n",
    "no_image = 0\n",
    "yes_image = 0\n",
    "for image in os.listdir('val2014'):\n",
    "    if hash_map_val.get(hash(image)) == None:\n",
    "        no_image += 1\n",
    "    else:\n",
    "        yes_image += 1\n",
    "\n",
    "if yes_image == len(file_name_val):\n",
    "    print(f\"The number of good images is verified ({len(file_name_val)} images)\")\n",
    "else:\n",
    "    print(f\"The number of good images should be {len(file_name_val)} (Number counted: {yes_image})\")"
   ]
  },
  {
   "cell_type": "code",
   "execution_count": 23,
   "metadata": {},
   "outputs": [],
   "source": [
    "# remove images\n",
    "# PLEASE VERIFY FIRST BEFORE CONTINUE\n",
    "for image in os.listdir('val2014'):\n",
    "    if hash_map_val.get(hash(image)) == None:\n",
    "        full_file_path_val = os.path.join('val2014', image)\n",
    "        print(f'Removing {image}')\n",
    "        os.remove(full_file_path_val)\n",
    "        print(f\"{image} successfully removed\")\n",
    "    else:\n",
    "        continue"
   ]
  },
  {
   "cell_type": "code",
   "execution_count": 24,
   "metadata": {},
   "outputs": [
    {
     "name": "stdout",
     "output_type": "stream",
     "text": [
      "The number of good images is verified (1508 images)\n"
     ]
    }
   ],
   "source": [
    "# verify if all the unused images are deleted\n",
    "good_image = 0\n",
    "for image in os.listdir('val2014'):\n",
    "    good_image += 1\n",
    "\n",
    "if good_image == len(file_name_val):\n",
    "    print(f\"The number of good images is verified ({len(file_name_val)} images)\")\n",
    "else:\n",
    "    print(f\"Oops, the number of good images should be {len(file_name_val)} (Number Counted: {good_image}). Please check again.\")"
   ]
  }
 ],
 "metadata": {
  "kernelspec": {
   "display_name": "Python 3",
   "language": "python",
   "name": "python3"
  },
  "language_info": {
   "codemirror_mode": {
    "name": "ipython",
    "version": 3
   },
   "file_extension": ".py",
   "mimetype": "text/x-python",
   "name": "python",
   "nbconvert_exporter": "python",
   "pygments_lexer": "ipython3",
   "version": "3.8.5"
  },
  "orig_nbformat": 2
 },
 "nbformat": 4,
 "nbformat_minor": 2
}