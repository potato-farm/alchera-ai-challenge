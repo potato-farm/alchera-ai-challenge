{
 "cells": [
  {
   "cell_type": "code",
   "execution_count": 1,
   "metadata": {},
   "outputs": [],
   "source": [
    "import cv2\n",
    "import numpy as np\n",
    "from tqdm import tqdm\n",
    "import shutil\n",
    "import os\n",
    "\n",
    "['0Background', '1Body', '2RightHand', '3LeftHand', '4LeftFeet', '5RightFeet', \n",
    "\t'6RightThigh', '7LeftThigh', '8RightCalf', '9LeftCalf', '10LeftArm', '11RightArm', \n",
    "\t'12LeftForeArm', '13RightForeArm','Head']\n",
    "\n",
    "changeDict = {2:3,3:2,4:5,5:4,6:7,7:6,8:9,9:8,10:11,11:10,12:13,13:12}\n",
    "\n",
    "MAINDIR = \"./val_mask/\"\n",
    "SAVEORIGINDIR = \"./val_mask_origin/\"\n"
   ]
  },
  {
   "cell_type": "code",
   "execution_count": 2,
   "metadata": {},
   "outputs": [],
   "source": [
    "def storeChangeXY(ls, img, label):\n",
    "\txList,yList = np.where(img==label)\n",
    "\n",
    "\tfor x,y in zip(xList, yList):\n",
    "\t\tls.append((x,y,changeDict[label]))\t\n",
    "\n",
    "def changeLabel(img, x, y, label):\n",
    "\timg[x,y] = label\n",
    "\treturn img\n",
    "\n",
    "def changeImage(imgName):\n",
    "\n",
    "\tpath = os.path.join(MAINDIR,imgName)\n",
    "\timg = cv2.imread(path, flags=cv2.IMREAD_GRAYSCALE)\n",
    "\n",
    "\tstoreList = []\n",
    "\tfor key in changeDict.keys():\n",
    "\t\tstoreChangeXY(storeList, img, key)\n",
    "\n",
    "\tfor x,y,label in storeList:\n",
    "\t\timg = changeLabel(img, x, y, label)\n",
    "\t\n",
    "\tcv2.imwrite(path, img)"
   ]
  },
  {
   "cell_type": "code",
   "execution_count": 3,
   "metadata": {},
   "outputs": [
    {
     "name": "stderr",
     "output_type": "stream",
     "text": [
      "100%|██████████| 400/400 [01:53<00:00,  3.54it/s]\n"
     ]
    }
   ],
   "source": [
    "if os.path.isdir(SAVEORIGINDIR): raise Exception(f\"이미 돌렸으면 원본이 손상될수도있음, {SAVEORIGINDIR} 에 원본이 백업돼있어요\")\n",
    "\n",
    "imageList = os.listdir(MAINDIR)\n",
    "shutil.copytree(MAINDIR, SAVEORIGINDIR)\n",
    "for image in tqdm(imageList):\n",
    "\tchangeImage(image)"
   ]
  },
  {
   "cell_type": "code",
   "execution_count": null,
   "metadata": {},
   "outputs": [],
   "source": []
  }
 ],
 "metadata": {
  "interpreter": {
   "hash": "58c22139e035fe019fb6d4ad64076bc2c6d0447a07f25eee7aec180e2958d9c4"
  },
  "kernelspec": {
   "display_name": "Python 3 (ipykernel)",
   "language": "python",
   "name": "python3"
  },
  "language_info": {
   "codemirror_mode": {
    "name": "ipython",
    "version": 3
   },
   "file_extension": ".py",
   "mimetype": "text/x-python",
   "name": "python",
   "nbconvert_exporter": "python",
   "pygments_lexer": "ipython3",
   "version": "3.8.5"
  },
  "orig_nbformat": 4
 },
 "nbformat": 4,
 "nbformat_minor": 2
}